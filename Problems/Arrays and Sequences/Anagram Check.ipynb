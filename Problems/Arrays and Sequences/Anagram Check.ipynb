{
 "cells": [
  {
   "cell_type": "markdown",
   "id": "7735474a",
   "metadata": {},
   "source": [
    "# Anagram Check\n",
    "\n",
    "## Problem\n",
    "\n",
    "Given two strings, check to see if they are anagrams. An anagram is when the two strings can be written using the exact same letters (so you can just rearrange the letters to get a different phrase or word). \n",
    "\n",
    "For example:\n",
    "\n",
    "    \"public relations\" is an anagram of \"crap built on lies.\"\n",
    "    \n",
    "    \"clint eastwood\" is an anagram of \"old west action\"\n",
    "    \n",
    "**Note: Ignore spaces and capitalization. So \"d go\" is an anagram of \"God\" and \"dog\" and \"o d g\".**\n",
    "\n",
    "## Solutions:-"
   ]
  },
  {
   "cell_type": "code",
   "execution_count": 1,
   "id": "8dc0a70c",
   "metadata": {},
   "outputs": [],
   "source": [
    "def checker(function,input_values,output_value):\n",
    "    \"\"\"Function that will check whether a function is giving out right outputs or not\"\"\"\n",
    "    for index in range(len(input_values)):\n",
    "        if function(input_values[index][0],input_values[index][1]) == output_value[index]:\n",
    "            pass\n",
    "        else:\n",
    "            print(f\"{function(input_values[index][0],input_values[index][1])} should be {output_value[index]} in case of {input_values[index]}\")\n",
    "            return\n",
    "    print(\"All values checked!! The function is working properly!!!\")"
   ]
  },
  {
   "cell_type": "markdown",
   "id": "c0247b57",
   "metadata": {},
   "source": [
    "# 1 Using Built-in Functions and Methods"
   ]
  },
  {
   "cell_type": "code",
   "execution_count": 2,
   "id": "8f49b5d7",
   "metadata": {},
   "outputs": [
    {
     "name": "stdout",
     "output_type": "stream",
     "text": [
      "All values checked!! The function is working properly!!!\n"
     ]
    }
   ],
   "source": [
    "# Using built in functions and methods\n",
    "def anagram_check(string_1,string_2):\n",
    "    return sorted(string_1.lower().replace(\" \",\"\")) == sorted(string_2.lower().replace(\" \",\"\"))\n",
    "\n",
    "input_values = [[\"g O d\",\"D o g\"],[\"clint eastwood\",\"old west action\"],[\"public relations\",\"crap built on lies\"],[\"Very\",\"Cary\"]]\n",
    "output_values = [True,True,True,False]\n",
    "checker(anagram_check,input_values,output_values)"
   ]
  },
  {
   "cell_type": "markdown",
   "id": "bab2f6dc",
   "metadata": {},
   "source": [
    "# 2 Using Lists"
   ]
  },
  {
   "cell_type": "code",
   "execution_count": 3,
   "id": "2867800a",
   "metadata": {},
   "outputs": [
    {
     "name": "stdout",
     "output_type": "stream",
     "text": [
      "All values checked!! The function is working properly!!!\n"
     ]
    }
   ],
   "source": [
    "# Using logic\n",
    "def anagram_check_1(string_1,string_2):\n",
    "    s1 = string_1.lower()\n",
    "    s2 = string_2.lower()\n",
    "    l1 = []\n",
    "    l2 = []\n",
    "    for letter in s1:\n",
    "        if letter == \" \":\n",
    "            pass\n",
    "        else:\n",
    "            l1.append(letter)\n",
    "    for letter in s2:\n",
    "        if letter == \" \":\n",
    "            pass\n",
    "        else:\n",
    "            l2.append(letter)\n",
    "    l1.sort()\n",
    "    l2.sort()\n",
    "    return l1 == l2\n",
    "\n",
    "checker(anagram_check_1,input_values,output_values)"
   ]
  },
  {
   "cell_type": "markdown",
   "id": "5f714613",
   "metadata": {},
   "source": [
    "# 3- Using Hast Tables"
   ]
  },
  {
   "cell_type": "code",
   "execution_count": 5,
   "id": "1c9c4a04",
   "metadata": {},
   "outputs": [
    {
     "name": "stdout",
     "output_type": "stream",
     "text": [
      "All values checked!! The function is working properly!!!\n"
     ]
    }
   ],
   "source": [
    "def anagram_check_2(string_1,string_2):\n",
    "    s1 = string_1.replace(\" \",\"\").lower()\n",
    "    s2= string_2.replace(\" \",\"\").lower()\n",
    "    \n",
    "    # Edge Case Check\n",
    "    if len(s1) != len(s2):\n",
    "        return False\n",
    "    \n",
    "    # Creating counting dictionary\n",
    "    count = {}\n",
    "    \n",
    "    # Fill dictionary for first string (add counts)\n",
    "    for letter in s1:\n",
    "        if letter in count:\n",
    "            count[letter] +=1\n",
    "        else:\n",
    "            count[letter] = 1\n",
    "    \n",
    "    # Fill dictionary for second string (subtract counts)\n",
    "    for letter in s2:\n",
    "        if letter in count:\n",
    "            count[letter] -=1\n",
    "        else:\n",
    "            return False\n",
    "        \n",
    "    # Check that all counts are 0\n",
    "    for k in count:\n",
    "        if count[k] != 0:\n",
    "            return False\n",
    "    \n",
    "    # Otherwise they're anagrams\n",
    "    return True\n",
    "\n",
    "checker(anagram_check_2,input_values,output_values)"
   ]
  },
  {
   "cell_type": "markdown",
   "id": "4de4745e",
   "metadata": {},
   "source": [
    "# Done!!"
   ]
  }
 ],
 "metadata": {
  "kernelspec": {
   "display_name": "Python 3 (ipykernel)",
   "language": "python",
   "name": "python3"
  },
  "language_info": {
   "codemirror_mode": {
    "name": "ipython",
    "version": 3
   },
   "file_extension": ".py",
   "mimetype": "text/x-python",
   "name": "python",
   "nbconvert_exporter": "python",
   "pygments_lexer": "ipython3",
   "version": "3.10.9"
  }
 },
 "nbformat": 4,
 "nbformat_minor": 5
}

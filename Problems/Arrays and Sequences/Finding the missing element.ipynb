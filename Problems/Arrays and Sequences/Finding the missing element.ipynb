{
 "cells": [
  {
   "cell_type": "markdown",
   "id": "d6b1f24d",
   "metadata": {},
   "source": [
    "# Find the Missing Element\n",
    "\n",
    "## Problem\n",
    "\n",
    "Consider an array of non-negative integers. A second array is formed by shuffling the elements of the first array and deleting a random element. Given these two arrays, find which element is missing in the second array. \n",
    "\n",
    "Here is an example input, the first array is shuffled and the number 5 is removed to construct the second array.\n",
    "\n",
    "Input:\n",
    "    \n",
    "    finder([1,2,3,4,5,6,7],[3,7,2,1,4,6])\n",
    "\n",
    "Output:\n",
    "\n",
    "    5 is the missing number\n",
    "\n",
    "## Solution"
   ]
  },
  {
   "cell_type": "code",
   "execution_count": 1,
   "id": "7549127f",
   "metadata": {},
   "outputs": [],
   "source": [
    "# Testing our Solution\n",
    "from nose.tools import assert_equal\n",
    "\n",
    "class TestFinder(object):\n",
    "    \n",
    "    def test(self,sol):\n",
    "        assert_equal(sol([5,5,7,7],[5,7,7]),5)\n",
    "        assert_equal(sol([1,2,3,4,5,6,7],[3,7,2,1,4,6]),5)\n",
    "        assert_equal(sol([9,8,7,6,5,4,3,2,1],[9,8,7,5,4,3,2,1]),6)\n",
    "        print('ALL TEST CASES PASSED')"
   ]
  },
  {
   "cell_type": "code",
   "execution_count": 2,
   "id": "b13cad99",
   "metadata": {},
   "outputs": [
    {
     "name": "stdout",
     "output_type": "stream",
     "text": [
      "ALL TEST CASES PASSED\n"
     ]
    }
   ],
   "source": [
    "# Solution 1\n",
    "from collections import defaultdict\n",
    "def finder(arr1,arr2):\n",
    "    \n",
    "    # Edge Case Check\n",
    "    if len(arr1) != len(arr2) + 1:\n",
    "        return\n",
    "    \n",
    "    checker = defaultdict(int)\n",
    "    \n",
    "    for num in arr2:\n",
    "        checker[num] += 1\n",
    "            \n",
    "    for num in arr1:\n",
    "        if checker[num] == 0:\n",
    "            return num\n",
    "        else:\n",
    "            checker[num] -= 1\n",
    "            \n",
    "# Run test\n",
    "t = TestFinder()\n",
    "t.test(finder)"
   ]
  },
  {
   "cell_type": "code",
   "execution_count": 3,
   "id": "d3513feb",
   "metadata": {},
   "outputs": [
    {
     "name": "stdout",
     "output_type": "stream",
     "text": [
      "ALL TEST CASES PASSED\n"
     ]
    }
   ],
   "source": [
    "# Solution 2\n",
    "def finder(arr1,arr2):\n",
    "    \n",
    "    # Sort the arrays/lists\n",
    "    arr1.sort()\n",
    "    arr2.sort()\n",
    "    \n",
    "    # compare every element in the sorted arrays\n",
    "    for num1,num2 in zip(arr1,arr2):\n",
    "        if num1 != num2:\n",
    "            return num1\n",
    "    \n",
    "    # Otherwise return the last element of arr1\n",
    "    return arr1[-1]\n",
    "\n",
    "# Run test\n",
    "t = TestFinder()\n",
    "t.test(finder)"
   ]
  },
  {
   "cell_type": "markdown",
   "id": "7bce9a90",
   "metadata": {},
   "source": [
    "## Done!!"
   ]
  }
 ],
 "metadata": {
  "kernelspec": {
   "display_name": "Python 3 (ipykernel)",
   "language": "python",
   "name": "python3"
  },
  "language_info": {
   "codemirror_mode": {
    "name": "ipython",
    "version": 3
   },
   "file_extension": ".py",
   "mimetype": "text/x-python",
   "name": "python",
   "nbconvert_exporter": "python",
   "pygments_lexer": "ipython3",
   "version": "3.10.9"
  }
 },
 "nbformat": 4,
 "nbformat_minor": 5
}

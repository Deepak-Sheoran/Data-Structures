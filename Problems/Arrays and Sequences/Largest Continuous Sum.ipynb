{
 "cells": [
  {
   "cell_type": "markdown",
   "id": "ad8a9bdd",
   "metadata": {},
   "source": [
    "# Largest Continuous Sum\n",
    "\n",
    "## Problem\n",
    "Given an array of integers (positive and negative) find the largest continuous sum. \n",
    "\n",
    "## Solution:-"
   ]
  },
  {
   "cell_type": "code",
   "execution_count": 1,
   "id": "830a5ca1",
   "metadata": {},
   "outputs": [],
   "source": [
    "# Solution 1\n",
    "def large_cont_sum(arr):\n",
    "    \n",
    "    if len(arr)==0:\n",
    "        return 0\n",
    "    \n",
    "    current_sum = max_sum = arr[0]\n",
    "    \n",
    "    for num in arr[1:]:\n",
    "        \n",
    "        current_sum = max(current_sum + num,num)\n",
    "        \n",
    "        max_sum = max(current_sum, max_sum)\n",
    "    \n",
    "    return max_sum"
   ]
  },
  {
   "cell_type": "code",
   "execution_count": 2,
   "id": "c1516f0d",
   "metadata": {},
   "outputs": [],
   "source": [
    "# Solution 2\n",
    "def large_cont_sum(arr): \n",
    "    LCS=[]\n",
    "    for i in range(len(arr)): \n",
    "        LCS.append(sum(arr[i:]))\n",
    "        LCS.append(sum(arr[i::-1]))\n",
    "    print(LCS)\n",
    "    return max(LCS)"
   ]
  },
  {
   "cell_type": "code",
   "execution_count": 3,
   "id": "3264fd62",
   "metadata": {},
   "outputs": [
    {
     "name": "stdout",
     "output_type": "stream",
     "text": [
      "[8, 1, 7, 3, 5, 2, 6, 5, 3, 9, -1, 8]\n",
      "[18, 1, 17, 3, 15, 2, 16, 5, 13, 9, 9, 19, -1, 29, -11, 19, -1, 18]\n",
      "[0, -1, 1, 0]\n",
      "ALL TEST CASES PASSED\n"
     ]
    }
   ],
   "source": [
    "from nose.tools import assert_equal\n",
    "\n",
    "class LargeContTest(object):\n",
    "    def test(self,sol):\n",
    "        assert_equal(sol([1,2,-1,3,4,-1]),9)\n",
    "        assert_equal(sol([1,2,-1,3,4,10,10,-10,-1]),29)\n",
    "        assert_equal(sol([-1,1]),1)\n",
    "        print('ALL TEST CASES PASSED')\n",
    "        \n",
    "#Run Test\n",
    "t = LargeContTest()\n",
    "t.test(large_cont_sum)"
   ]
  },
  {
   "cell_type": "markdown",
   "id": "fb275579",
   "metadata": {},
   "source": [
    "## Done!"
   ]
  }
 ],
 "metadata": {
  "kernelspec": {
   "display_name": "Python 3 (ipykernel)",
   "language": "python",
   "name": "python3"
  },
  "language_info": {
   "codemirror_mode": {
    "name": "ipython",
    "version": 3
   },
   "file_extension": ".py",
   "mimetype": "text/x-python",
   "name": "python",
   "nbconvert_exporter": "python",
   "pygments_lexer": "ipython3",
   "version": "3.10.9"
  }
 },
 "nbformat": 4,
 "nbformat_minor": 5
}

{
 "cells": [
  {
   "cell_type": "markdown",
   "id": "129166f4",
   "metadata": {},
   "source": [
    "# Doubly Linked List Implementation\n",
    "\n",
    "In this program we will implement a Doubly Linked List "
   ]
  },
  {
   "cell_type": "code",
   "execution_count": 1,
   "id": "d48615fd",
   "metadata": {},
   "outputs": [],
   "source": [
    "# Simple Way\n",
    "class DoublyLinkedListNode(object):\n",
    "    \n",
    "    def __init__(self,value):\n",
    "        \n",
    "        self.value = value\n",
    "        self.next_node = None\n",
    "        self.prev_node = None"
   ]
  },
  {
   "cell_type": "markdown",
   "id": "e5dbe9c6",
   "metadata": {},
   "source": [
    "Now that we have our node that can reference next *and* previous values, let's begin to build out our linked list!"
   ]
  },
  {
   "cell_type": "code",
   "execution_count": 2,
   "id": "7b23fd2c",
   "metadata": {},
   "outputs": [],
   "source": [
    "a = DoublyLinkedListNode(1)\n",
    "b = DoublyLinkedListNode(2)\n",
    "c = DoublyLinkedListNode(3)"
   ]
  },
  {
   "cell_type": "code",
   "execution_count": 3,
   "id": "08d9adf3",
   "metadata": {},
   "outputs": [],
   "source": [
    "# Setting b after a\n",
    "b.prev_node = a\n",
    "a.next_node = b"
   ]
  },
  {
   "cell_type": "code",
   "execution_count": 4,
   "id": "fb6ff45d",
   "metadata": {},
   "outputs": [],
   "source": [
    "# Setting c after a\n",
    "b.next_node = c\n",
    "c.prev_node = b"
   ]
  },
  {
   "cell_type": "markdown",
   "id": "62e14f0f",
   "metadata": {},
   "source": [
    "Having a Doubly Linked list allows us to go though our Linked List forwards **and** backwards."
   ]
  },
  {
   "cell_type": "code",
   "execution_count": 5,
   "id": "904bc13b",
   "metadata": {},
   "outputs": [
    {
     "name": "stdout",
     "output_type": "stream",
     "text": [
      "45--> 34--> \n"
     ]
    }
   ],
   "source": [
    "# Slightly Complex Way\n",
    "class Node:\n",
    "    \n",
    "    def __init__(self, data = None, prevnode = None, nextnode = None):\n",
    "        self.data = data\n",
    "        self.prevnode = prevnode\n",
    "        self.nextnode = nextnode\n",
    "\n",
    "class DoubleLinkedList:\n",
    "    \n",
    "    def __init__(self):\n",
    "        self.head = None\n",
    "        self.tail = None\n",
    "    \n",
    "    def insert_at_beginning(self,data):\n",
    "        if self.head is None:\n",
    "            self.head = Node(data, None, None)\n",
    "            self.tail = self.head\n",
    "            return\n",
    "        node = Node(data, None, self.head)\n",
    "        self.head.prevnode = node\n",
    "        self.head = node\n",
    "    \n",
    "    def print(self):\n",
    "        if self.head is None:\n",
    "            print(\"Linked List is Empty!!\")\n",
    "            return\n",
    "        \n",
    "        llstr = \"\"\n",
    "        itr = self.head\n",
    "        while itr:\n",
    "            llstr += str(itr.data) + \"--> \"\n",
    "            itr = itr.nextnode\n",
    "        print(llstr)\n",
    "\n",
    "dll = DoubleLinkedList()\n",
    "dll.insert_at_beginning(34)\n",
    "dll.insert_at_beginning(45)\n",
    "dll.print()"
   ]
  },
  {
   "cell_type": "markdown",
   "id": "1c4ed3b8",
   "metadata": {},
   "source": [
    "## Done!!"
   ]
  }
 ],
 "metadata": {
  "kernelspec": {
   "display_name": "Python 3 (ipykernel)",
   "language": "python",
   "name": "python3"
  },
  "language_info": {
   "codemirror_mode": {
    "name": "ipython",
    "version": 3
   },
   "file_extension": ".py",
   "mimetype": "text/x-python",
   "name": "python",
   "nbconvert_exporter": "python",
   "pygments_lexer": "ipython3",
   "version": "3.10.9"
  }
 },
 "nbformat": 4,
 "nbformat_minor": 5
}

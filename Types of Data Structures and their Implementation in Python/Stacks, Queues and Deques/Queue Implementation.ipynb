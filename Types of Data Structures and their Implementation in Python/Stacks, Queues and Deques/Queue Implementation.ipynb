{
 "cells": [
  {
   "cell_type": "markdown",
   "id": "c742ef81",
   "metadata": {},
   "source": [
    "# Implementation of Queue\n",
    "____\n",
    "## Queue Methods and Attributes\n",
    "\n",
    "\n",
    "Before we begin implementing our own queue, let's review the attribute and methods it will have:\n",
    "\n",
    "* Queue() creates a new queue that is empty. It needs no parameters and returns an empty queue.\n",
    "* enqueue(item) adds a new item to the rear of the queue. It needs the item and returns nothing.\n",
    "* dequeue() removes the front item from the queue. It needs no parameters and returns the item. The queue is modified.\n",
    "* isEmpty() tests to see whether the queue is empty. It needs no parameters and returns a boolean value.\n",
    "* size() returns the number of items in the queue. It needs no parameters and returns an integer."
   ]
  },
  {
   "cell_type": "markdown",
   "id": "428b3ff3",
   "metadata": {},
   "source": [
    "____\n",
    "## Queue Implementation"
   ]
  },
  {
   "cell_type": "code",
   "execution_count": 1,
   "id": "7d25419f",
   "metadata": {},
   "outputs": [],
   "source": [
    "class Queue():\n",
    "    \n",
    "    def __init__(self):\n",
    "        self.queue = []\n",
    "        \n",
    "    def enqueue(self,item):\n",
    "        self.queue.append(item)\n",
    "    \n",
    "    def dequeue(self):\n",
    "        return self.queue.pop(0)\n",
    "    \n",
    "    def isEmpty(self):\n",
    "        return self.queue == []\n",
    "    \n",
    "    def size(self):\n",
    "        return len(self.queue)"
   ]
  },
  {
   "cell_type": "code",
   "execution_count": 2,
   "id": "5236bcb7",
   "metadata": {},
   "outputs": [],
   "source": [
    "q = Queue()"
   ]
  },
  {
   "cell_type": "code",
   "execution_count": 3,
   "id": "aab0a1cc",
   "metadata": {},
   "outputs": [
    {
     "data": {
      "text/plain": [
       "0"
      ]
     },
     "execution_count": 3,
     "metadata": {},
     "output_type": "execute_result"
    }
   ],
   "source": [
    "q.size()"
   ]
  },
  {
   "cell_type": "code",
   "execution_count": 4,
   "id": "1c64b899",
   "metadata": {},
   "outputs": [
    {
     "data": {
      "text/plain": [
       "True"
      ]
     },
     "execution_count": 4,
     "metadata": {},
     "output_type": "execute_result"
    }
   ],
   "source": [
    "q.isEmpty()"
   ]
  },
  {
   "cell_type": "code",
   "execution_count": 5,
   "id": "494dc013",
   "metadata": {},
   "outputs": [],
   "source": [
    "q.enqueue(1)"
   ]
  },
  {
   "cell_type": "code",
   "execution_count": 6,
   "id": "b47ca392",
   "metadata": {},
   "outputs": [
    {
     "data": {
      "text/plain": [
       "1"
      ]
     },
     "execution_count": 6,
     "metadata": {},
     "output_type": "execute_result"
    }
   ],
   "source": [
    "q.dequeue()"
   ]
  },
  {
   "cell_type": "markdown",
   "id": "8273f7af",
   "metadata": {},
   "source": [
    "## Done!!"
   ]
  }
 ],
 "metadata": {
  "kernelspec": {
   "display_name": "Python 3 (ipykernel)",
   "language": "python",
   "name": "python3"
  },
  "language_info": {
   "codemirror_mode": {
    "name": "ipython",
    "version": 3
   },
   "file_extension": ".py",
   "mimetype": "text/x-python",
   "name": "python",
   "nbconvert_exporter": "python",
   "pygments_lexer": "ipython3",
   "version": "3.10.9"
  }
 },
 "nbformat": 4,
 "nbformat_minor": 5
}

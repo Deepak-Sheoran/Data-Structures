{
 "cells": [
  {
   "cell_type": "markdown",
   "id": "a2a032ed",
   "metadata": {},
   "source": [
    "# Dynamic Array\n",
    "When we're building a list in Python, we don't really need to specify how large the array or that list is beforehand.\\\n",
    "In python **lists** are **dynamic**.\n",
    "1. A list instance often has greater capacity than current length.\n",
    "2. If elements keep getting appended, eventually this extra space runs out.\\\n",
    "\n",
    "So, as we keep adding elements basically what python does is that it grabs more and more real estate in memory and it allows us to see that there is an underlying change in memory when we insert more and more elements until we need a memory usage jump."
   ]
  },
  {
   "cell_type": "code",
   "execution_count": 1,
   "id": "84f03fbe",
   "metadata": {},
   "outputs": [
    {
     "name": "stdout",
     "output_type": "stream",
     "text": [
      "Size of Empty list = 56\n",
      "\n",
      "Length   0; Size   56\n",
      "Length   1; Size   88\n",
      "Length   2; Size   88\n",
      "Length   3; Size   88\n",
      "Length   4; Size   88\n",
      "Length   5; Size  120\n",
      "Length   6; Size  120\n",
      "Length   7; Size  120\n",
      "Length   8; Size  120\n",
      "Length   9; Size  184\n"
     ]
    }
   ],
   "source": [
    "import sys\n",
    "\n",
    "n = 10\n",
    "\n",
    "data = [] # empty list with some capacity\n",
    "\n",
    "print(f\"Size of Empty list = {sys.getsizeof(data)}\\n\")\n",
    "\n",
    "for i in range(n):\n",
    "    \n",
    "    l = len(data)\n",
    "    \n",
    "    # check the actual capacity of the list in Bits\n",
    "    s = sys.getsizeof(data)\n",
    "    \n",
    "    print(\"Length {0:3d}; Size {1:4d}\".format(l,s))\n",
    "    \n",
    "    # increase length one by one\n",
    "    data.append(i)"
   ]
  },
  {
   "cell_type": "markdown",
   "id": "9d218930",
   "metadata": {},
   "source": [
    "## Implementation of Dynamic Array using Python Lists"
   ]
  },
  {
   "cell_type": "code",
   "execution_count": 2,
   "id": "cb1bae57",
   "metadata": {},
   "outputs": [],
   "source": [
    "import ctypes\n",
    "\n",
    "class DynamicArray(object):\n",
    "    \n",
    "    def __init__(self):\n",
    "        self.n = 0\n",
    "        self.capacity = 1\n",
    "        self.A = self.make_array(self.capacity)\n",
    "    \n",
    "    def __len__(self):\n",
    "        return self.n\n",
    "    \n",
    "    def __getitem__(self,k):\n",
    "        if not 0 <= k < self.n:\n",
    "            return IndexError(\"K is out of bounds!!\")\n",
    "        return self.A[k]\n",
    "    \n",
    "    def append(self,ele):\n",
    "        if self.n == self.capacity:\n",
    "            self._resize(2*self.capacity) # 2 times if capacity isn't enough\n",
    "        self.A[self.n] = ele\n",
    "        self.n+=1\n",
    "    \n",
    "    def _resize(self,new_capacity):\n",
    "        B = self.make_array(new_capacity)\n",
    "        for k in range(self.n):\n",
    "            B[k] = self.A[k]\n",
    "        self.A = B\n",
    "        self.capacity = new_capacity\n",
    "    \n",
    "    def make_array(self, capacity): # Gives new array\n",
    "        return (capacity*ctypes.py_object)()"
   ]
  },
  {
   "cell_type": "code",
   "execution_count": 3,
   "id": "c1614031",
   "metadata": {},
   "outputs": [
    {
     "data": {
      "text/plain": [
       "1"
      ]
     },
     "execution_count": 3,
     "metadata": {},
     "output_type": "execute_result"
    }
   ],
   "source": [
    "arr = DynamicArray()\n",
    "arr.append(1)\n",
    "len(arr)"
   ]
  },
  {
   "cell_type": "code",
   "execution_count": 4,
   "id": "c9f06dbd",
   "metadata": {},
   "outputs": [
    {
     "data": {
      "text/plain": [
       "2"
      ]
     },
     "execution_count": 4,
     "metadata": {},
     "output_type": "execute_result"
    }
   ],
   "source": [
    "arr.append(2)\n",
    "len(arr)"
   ]
  },
  {
   "cell_type": "code",
   "execution_count": 5,
   "id": "90a6b10a",
   "metadata": {},
   "outputs": [
    {
     "data": {
      "text/plain": [
       "2"
      ]
     },
     "execution_count": 5,
     "metadata": {},
     "output_type": "execute_result"
    }
   ],
   "source": [
    "arr[1]"
   ]
  },
  {
   "cell_type": "code",
   "execution_count": 6,
   "id": "cd8f10fb",
   "metadata": {},
   "outputs": [
    {
     "name": "stdout",
     "output_type": "stream",
     "text": [
      "Size of Empty list = 48\n",
      "\n",
      "Length   0; Size   48\n",
      "Length   1; Size   48\n",
      "Length   2; Size   48\n",
      "Length   3; Size   48\n",
      "Length   4; Size   48\n",
      "Length   5; Size   48\n",
      "Length   6; Size   48\n",
      "Length   7; Size   48\n",
      "Length   8; Size   48\n",
      "Length   9; Size   48\n"
     ]
    }
   ],
   "source": [
    "# Using the Dynamic array instead of python lists\n",
    "n = 10\n",
    "\n",
    "data = DynamicArray() # empty array with some capacity\n",
    "\n",
    "print(f\"Size of Empty list = {sys.getsizeof(data)}\\n\")\n",
    "\n",
    "for i in range(n):\n",
    "    \n",
    "    l = len(data)\n",
    "    \n",
    "    # check the actual capacity of the array in Bits\n",
    "    s = sys.getsizeof(data)\n",
    "    \n",
    "    print(\"Length {0:3d}; Size {1:4d}\".format(l,s))\n",
    "    \n",
    "    # increase length one by one\n",
    "    data.append(i)"
   ]
  },
  {
   "cell_type": "markdown",
   "id": "562c369d",
   "metadata": {},
   "source": [
    "## Done!!"
   ]
  }
 ],
 "metadata": {
  "kernelspec": {
   "display_name": "Python 3 (ipykernel)",
   "language": "python",
   "name": "python3"
  },
  "language_info": {
   "codemirror_mode": {
    "name": "ipython",
    "version": 3
   },
   "file_extension": ".py",
   "mimetype": "text/x-python",
   "name": "python",
   "nbconvert_exporter": "python",
   "pygments_lexer": "ipython3",
   "version": "3.10.9"
  }
 },
 "nbformat": 4,
 "nbformat_minor": 5
}

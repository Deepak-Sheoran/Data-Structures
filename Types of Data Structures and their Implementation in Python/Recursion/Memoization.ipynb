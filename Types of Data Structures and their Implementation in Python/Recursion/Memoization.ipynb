{
 "cells": [
  {
   "cell_type": "markdown",
   "id": "ea2b551a",
   "metadata": {},
   "source": [
    "# Memoization\n",
    "\n",
    "____\n",
    "\n",
    "Memoization effectively refers to remembering (\"memoization\" -> \"memorandum\" -> to be remembered) results of method calls based on the method inputs and then returning the remembered result rather than computing the result again. You can think of it as a cache for method results. Read the [Wikipedia article on Memoization](https://en.wikipedia.org/wiki/Memoization)\n",
    "\n",
    "A simple example for computing factorials using memoization in Python would be something like this:"
   ]
  },
  {
   "cell_type": "code",
   "execution_count": 1,
   "id": "bd4ad899",
   "metadata": {},
   "outputs": [
    {
     "data": {
      "text/plain": [
       "24"
      ]
     },
     "execution_count": 1,
     "metadata": {},
     "output_type": "execute_result"
    }
   ],
   "source": [
    "# Create cache for known results\n",
    "factorial_memo = {}\n",
    "\n",
    "def factorial(k):\n",
    "    \n",
    "    if k < 2: \n",
    "        return 1\n",
    "    \n",
    "    if not k in factorial_memo:\n",
    "        factorial_memo[k] = k * factorial(k-1)\n",
    "        \n",
    "    return factorial_memo[k]\n",
    "\n",
    "factorial(4)"
   ]
  },
  {
   "cell_type": "markdown",
   "id": "a1b719eb",
   "metadata": {},
   "source": [
    "Note how we are now using a dictionary to store previous results of the factorial function! We are now able to increase the efficiency of this function by remembering old results!\n",
    "\n",
    "Keep this in mind when working on the Coin Change Problem and the Fibonacci Sequence Problem.\n",
    "\n",
    "___\n",
    "\n",
    "We can also encapsulate the memoization process into a class:"
   ]
  },
  {
   "cell_type": "code",
   "execution_count": 2,
   "id": "eb9ec921",
   "metadata": {},
   "outputs": [],
   "source": [
    "class Memoize:\n",
    "    def __init__(self,f):\n",
    "        self.f = f\n",
    "        self.memo = {}\n",
    "    \n",
    "    def __call__(self,*args):\n",
    "        if not args in self.memo:\n",
    "            self.memo[args] = self.f(*args)\n",
    "        return self.memo[args]\n",
    "\n",
    "def factorial(k):\n",
    "    if k<2:\n",
    "        return 1\n",
    "    \n",
    "    return k*factorial(k-1)\n",
    "\n",
    "factorial = Memoize(factorial)"
   ]
  },
  {
   "cell_type": "code",
   "execution_count": 3,
   "id": "4acdbd0d",
   "metadata": {},
   "outputs": [
    {
     "data": {
      "text/plain": [
       "24"
      ]
     },
     "execution_count": 3,
     "metadata": {},
     "output_type": "execute_result"
    }
   ],
   "source": [
    "factorial.__call__(4)"
   ]
  },
  {
   "cell_type": "code",
   "execution_count": 4,
   "id": "3b164d35",
   "metadata": {},
   "outputs": [
    {
     "data": {
      "text/plain": [
       "{2: 2, 3: 6, 4: 24}"
      ]
     },
     "execution_count": 4,
     "metadata": {},
     "output_type": "execute_result"
    }
   ],
   "source": [
    "factorial_memo"
   ]
  },
  {
   "cell_type": "markdown",
   "id": "01976b69",
   "metadata": {},
   "source": [
    "## Done!!"
   ]
  }
 ],
 "metadata": {
  "kernelspec": {
   "display_name": "Python 3 (ipykernel)",
   "language": "python",
   "name": "python3"
  },
  "language_info": {
   "codemirror_mode": {
    "name": "ipython",
    "version": 3
   },
   "file_extension": ".py",
   "mimetype": "text/x-python",
   "name": "python",
   "nbconvert_exporter": "python",
   "pygments_lexer": "ipython3",
   "version": "3.10.9"
  }
 },
 "nbformat": 4,
 "nbformat_minor": 5
}
